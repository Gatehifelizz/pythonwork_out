{
 "cells": [
  {
   "cell_type": "code",
   "execution_count": 5,
   "id": "initial_id",
   "metadata": {
    "collapsed": true,
    "ExecuteTime": {
     "end_time": "2024-02-12T14:53:21.091207791Z",
     "start_time": "2024-02-12T14:53:21.040239971Z"
    }
   },
   "outputs": [
    {
     "data": {
      "text/plain": "8"
     },
     "execution_count": 5,
     "metadata": {},
     "output_type": "execute_result"
    }
   ],
   "source": [
    "def lesser_of_two_evens(a,b):\n",
    "    if a%2 == 0 and b%2 == 0:\n",
    "        #Both numbers are even\n",
    "        return min(a,b)\n",
    "    else:\n",
    "        #ONE OR BOTH NUMBERS ARE ODD\n",
    "        return max(a,b)\n",
    "lesser_of_two_evens(12,8)\n",
    "\n",
    "            "
   ]
  },
  {
   "cell_type": "code",
   "outputs": [
    {
     "data": {
      "text/plain": "11"
     },
     "execution_count": 6,
     "metadata": {},
     "output_type": "execute_result"
    }
   ],
   "source": [
    "lesser_of_two_evens(5,11)"
   ],
   "metadata": {
    "collapsed": false,
    "ExecuteTime": {
     "end_time": "2024-02-12T14:53:24.330050627Z",
     "start_time": "2024-02-12T14:53:24.286455492Z"
    }
   },
   "id": "49d08d648b6029ec",
   "execution_count": 6
  },
  {
   "cell_type": "code",
   "outputs": [
    {
     "name": "stdout",
     "output_type": "stream",
     "text": [
      "['hello', 'world']\n"
     ]
    },
    {
     "data": {
      "text/plain": "False"
     },
     "execution_count": 9,
     "metadata": {},
     "output_type": "execute_result"
    }
   ],
   "source": [
    "def animal_craker(text):\n",
    "    wordlist = text.lower().split()\n",
    "    print(wordlist)\n",
    "    \n",
    "    return  wordlist[0][0] == wordlist[1][0]\n",
    "#CHECK\n",
    "animal_craker('hello world')"
   ],
   "metadata": {
    "collapsed": false,
    "ExecuteTime": {
     "end_time": "2024-02-12T15:00:16.228285816Z",
     "start_time": "2024-02-12T15:00:16.176368295Z"
    }
   },
   "id": "d463764a4013bf4",
   "execution_count": 9
  },
  {
   "cell_type": "code",
   "outputs": [
    {
     "name": "stdout",
     "output_type": "stream",
     "text": [
      "['hello', 'hawaii']\n"
     ]
    },
    {
     "data": {
      "text/plain": "True"
     },
     "execution_count": 10,
     "metadata": {},
     "output_type": "execute_result"
    }
   ],
   "source": [
    "animal_craker('hello hawaii')"
   ],
   "metadata": {
    "collapsed": false,
    "ExecuteTime": {
     "end_time": "2024-02-12T15:00:19.527201850Z",
     "start_time": "2024-02-12T15:00:19.511520158Z"
    }
   },
   "id": "d44914d5bad9e3a",
   "execution_count": 10
  },
  {
   "cell_type": "code",
   "outputs": [
    {
     "data": {
      "text/plain": "True"
     },
     "execution_count": 17,
     "metadata": {},
     "output_type": "execute_result"
    }
   ],
   "source": [
    "def makes_twenty_five(num1,num2):\n",
    "    \n",
    "    return (num1+num2)==25 or num1==25 or num2==25\n",
    "    \n",
    "   \n",
    "makes_twenty_five(15,10)    "
   ],
   "metadata": {
    "collapsed": false,
    "ExecuteTime": {
     "end_time": "2024-02-12T15:10:11.982447517Z",
     "start_time": "2024-02-12T15:10:11.929717169Z"
    }
   },
   "id": "b517ce17e02611d",
   "execution_count": 17
  },
  {
   "cell_type": "code",
   "outputs": [
    {
     "data": {
      "text/plain": "True"
     },
     "execution_count": 18,
     "metadata": {},
     "output_type": "execute_result"
    }
   ],
   "source": [
    "makes_twenty_five(25,10)"
   ],
   "metadata": {
    "collapsed": false,
    "ExecuteTime": {
     "end_time": "2024-02-12T15:10:14.176138096Z",
     "start_time": "2024-02-12T15:10:14.156959528Z"
    }
   },
   "id": "db279989ec4da06b",
   "execution_count": 18
  },
  {
   "cell_type": "code",
   "outputs": [
    {
     "data": {
      "text/plain": "'MacDonald'"
     },
     "execution_count": 24,
     "metadata": {},
     "output_type": "execute_result"
    }
   ],
   "source": [
    "def old_macdonald(name):\n",
    "    \n",
    "    first_half = name[:3]\n",
    "    second_half = name [3:]\n",
    "    return first_half.capitalize() + second_half.capitalize()\n",
    "#CHECK\n",
    "old_macdonald('macdonald')\n",
    "    "
   ],
   "metadata": {
    "collapsed": false,
    "ExecuteTime": {
     "end_time": "2024-02-12T15:24:18.504913912Z",
     "start_time": "2024-02-12T15:24:18.458761444Z"
    }
   },
   "id": "324f7350bbaa0120",
   "execution_count": 24
  },
  {
   "cell_type": "code",
   "outputs": [
    {
     "data": {
      "text/plain": "'felix home welcome'"
     },
     "execution_count": 5,
     "metadata": {},
     "output_type": "execute_result"
    }
   ],
   "source": [
    "def master_yoda(text):\n",
    "    wordlist = text.split()\n",
    "    reverse_wordlist = wordlist [: : -1]\n",
    "    return ' '.join(reverse_wordlist)\n",
    "#CHECK\n",
    "master_yoda('welcome home felix')\n",
    "    "
   ],
   "metadata": {
    "collapsed": false,
    "ExecuteTime": {
     "end_time": "2024-02-12T18:32:05.808710491Z",
     "start_time": "2024-02-12T18:32:05.748864760Z"
    }
   },
   "id": "8b51350257914740",
   "execution_count": 5
  },
  {
   "cell_type": "code",
   "outputs": [
    {
     "data": {
      "text/plain": "'abc'"
     },
     "execution_count": 3,
     "metadata": {},
     "output_type": "execute_result"
    }
   ],
   "source": [
    "my_list=[\"a\",\"b\",\"c\"]\n",
    "''.join(my_list)"
   ],
   "metadata": {
    "collapsed": false,
    "ExecuteTime": {
     "end_time": "2024-02-12T18:28:46.658111924Z",
     "start_time": "2024-02-12T18:28:46.599503408Z"
    }
   },
   "id": "2b6e30984c72aef6",
   "execution_count": 3
  },
  {
   "cell_type": "code",
   "outputs": [
    {
     "data": {
      "text/plain": "False"
     },
     "execution_count": 9,
     "metadata": {},
     "output_type": "execute_result"
    }
   ],
   "source": [
    "def has_33(nums):\n",
    "    for i in range(0,len(nums)-1):\n",
    "        if nums[i:i+2] == [3,3]:\n",
    "            return True\n",
    "        \n",
    "    return False\n",
    "has_33([1,3,1,3])"
   ],
   "metadata": {
    "collapsed": false,
    "ExecuteTime": {
     "end_time": "2024-02-13T02:57:35.968411062Z",
     "start_time": "2024-02-13T02:57:35.930878Z"
    }
   },
   "id": "b52019ebaebbe9ad",
   "execution_count": 9
  },
  {
   "cell_type": "code",
   "outputs": [
    {
     "data": {
      "text/plain": "True"
     },
     "execution_count": 10,
     "metadata": {},
     "output_type": "execute_result"
    }
   ],
   "source": [
    "has_33([1,3,3])"
   ],
   "metadata": {
    "collapsed": false,
    "ExecuteTime": {
     "end_time": "2024-02-13T02:57:37.179806429Z",
     "start_time": "2024-02-13T02:57:37.157719370Z"
    }
   },
   "id": "e0c92c7dd7871db9",
   "execution_count": 10
  },
  {
   "cell_type": "code",
   "outputs": [
    {
     "data": {
      "text/plain": "'MMMiiissssssyyy'"
     },
     "execution_count": 11,
     "metadata": {},
     "output_type": "execute_result"
    }
   ],
   "source": [
    "def paper_doll(text):\n",
    "    result = ''\n",
    "    \n",
    "    for char in text:\n",
    "        result += char*3\n",
    "    return result\n",
    "paper_doll('Missy')"
   ],
   "metadata": {
    "collapsed": false,
    "ExecuteTime": {
     "end_time": "2024-02-13T03:00:59.380520102Z",
     "start_time": "2024-02-13T03:00:59.333707047Z"
    }
   },
   "id": "446ed7608b3aec53",
   "execution_count": 11
  },
  {
   "cell_type": "code",
   "outputs": [
    {
     "data": {
      "text/plain": "21"
     },
     "execution_count": 20,
     "metadata": {},
     "output_type": "execute_result"
    }
   ],
   "source": [
    "def blackjack(a,b,c):\n",
    "    if sum([a,b,c]) <= 21:\n",
    "        return sum([a,b,c])\n",
    "    elif 11 in (a,b,c) and  sum([a,b,c])>= 31:\n",
    "        return sum([a,b,c])-10\n",
    "    else:\n",
    "        return \"BUST\"\n",
    "        \n",
    "blackjack(7,5,9)"
   ],
   "metadata": {
    "collapsed": false,
    "ExecuteTime": {
     "end_time": "2024-02-13T03:16:36.824348298Z",
     "start_time": "2024-02-13T03:16:36.797090886Z"
    }
   },
   "id": "35d55c864aa2f9b0",
   "execution_count": 20
  },
  {
   "cell_type": "code",
   "outputs": [
    {
     "data": {
      "text/plain": "18"
     },
     "execution_count": 21,
     "metadata": {},
     "output_type": "execute_result"
    }
   ],
   "source": [
    "blackjack(11,2,5)"
   ],
   "metadata": {
    "collapsed": false,
    "ExecuteTime": {
     "end_time": "2024-02-13T03:16:37.910969502Z",
     "start_time": "2024-02-13T03:16:37.861316531Z"
    }
   },
   "id": "a9b67d93f6bebee8",
   "execution_count": 21
  },
  {
   "cell_type": "code",
   "outputs": [
    {
     "data": {
      "text/plain": "'BUST'"
     },
     "execution_count": 22,
     "metadata": {},
     "output_type": "execute_result"
    }
   ],
   "source": [
    "blackjack(23,54,21)"
   ],
   "metadata": {
    "collapsed": false,
    "ExecuteTime": {
     "end_time": "2024-02-13T03:16:39.189457386Z",
     "start_time": "2024-02-13T03:16:39.169710765Z"
    }
   },
   "id": "e588b7e78c48f324",
   "execution_count": 22
  },
  {
   "cell_type": "code",
   "outputs": [
    {
     "data": {
      "text/plain": "'BUST'"
     },
     "execution_count": 23,
     "metadata": {},
     "output_type": "execute_result"
    }
   ],
   "source": [
    "blackjack(9,5,9)"
   ],
   "metadata": {
    "collapsed": false,
    "ExecuteTime": {
     "end_time": "2024-02-13T03:16:45.719049390Z",
     "start_time": "2024-02-13T03:16:45.695209918Z"
    }
   },
   "id": "4fe2d66e9c0db603",
   "execution_count": 23
  },
  {
   "cell_type": "code",
   "outputs": [
    {
     "name": "stdout",
     "output_type": "stream",
     "text": [
      "our neighbour named his dog Bob , his a german shepherd and lastly he's blacl in color\n"
     ]
    }
   ],
   "source": [
    "#OOP\n",
    "class Dog:\n",
    "    \n",
    "    def __init__(self,name,breed,color):\n",
    "        self.name=name\n",
    "        self.breed=breed\n",
    "        self.color=color\n",
    "    def describe_dog(self):\n",
    "        print(f\"our neighbour named his dog {self.name} , his a {self.breed} and lastly he's {self.color} in color\")\n",
    "        \n",
    "myobj=Dog(\"Bob\",\"german shepherd\",\"black\")\n",
    "myobj.describe_dog()"
   ],
   "metadata": {
    "collapsed": false,
    "ExecuteTime": {
     "end_time": "2024-02-13T03:28:05.464483531Z",
     "start_time": "2024-02-13T03:28:05.442745528Z"
    }
   },
   "id": "33cf2ecac3329691",
   "execution_count": 24
  },
  {
   "cell_type": "code",
   "outputs": [
    {
     "name": "stdout",
     "output_type": "stream",
     "text": [
      "beauty by gatehi\n"
     ]
    }
   ],
   "source": [
    "class Books():\n",
    "    \n",
    "    def __init__(self,title,author,pages):\n",
    "        self.title=title\n",
    "        self.author=author\n",
    "        self.pages= pages\n",
    "    def __str__(self):\n",
    "        return f\"{self.title} by {self.author}\"\n",
    "    def __len__(self):\n",
    "        return self.pages\n",
    "book1=Books(\"beauty\",\"gatehi\",219)\n",
    "print(book1)"
   ],
   "metadata": {
    "collapsed": false,
    "ExecuteTime": {
     "end_time": "2024-02-13T06:39:11.027740335Z",
     "start_time": "2024-02-13T06:39:10.974973622Z"
    }
   },
   "id": "9630ed9a09a02bbf",
   "execution_count": 3
  },
  {
   "cell_type": "code",
   "outputs": [
    {
     "data": {
      "text/plain": "219"
     },
     "execution_count": 4,
     "metadata": {},
     "output_type": "execute_result"
    }
   ],
   "source": [
    "len(book1)"
   ],
   "metadata": {
    "collapsed": false,
    "ExecuteTime": {
     "end_time": "2024-02-13T06:39:35.758021898Z",
     "start_time": "2024-02-13T06:39:35.721594621Z"
    }
   },
   "id": "3b7a429f1cb7495e",
   "execution_count": 4
  },
  {
   "cell_type": "code",
   "outputs": [
    {
     "data": {
      "text/plain": "169.56"
     },
     "execution_count": 1,
     "metadata": {},
     "output_type": "execute_result"
    }
   ],
   "source": [
    "class Circle():\n",
    "    \n",
    "    #CLASS OBJECT ATTRIBUTE\n",
    "    pi = 3.14\n",
    "    def __init__(self,radius):\n",
    "        self.radius = radius\n",
    "    def get_circumference(self):\n",
    "        return self.radius * self.pi * 2\n",
    "my_circle = Circle(27)\n",
    "my_circle.get_circumference()"
   ],
   "metadata": {
    "collapsed": false,
    "ExecuteTime": {
     "end_time": "2024-02-15T04:24:43.540598656Z",
     "start_time": "2024-02-15T04:24:43.521557958Z"
    }
   },
   "id": "901079d6e3bad266",
   "execution_count": 1
  },
  {
   "cell_type": "code",
   "outputs": [
    {
     "data": {
      "text/plain": "20771.100000000002"
     },
     "execution_count": 9,
     "metadata": {},
     "output_type": "execute_result"
    }
   ],
   "source": [
    "class Cylinder:\n",
    "    pi = 3.14\n",
    "    def __init__(self,height,radius):\n",
    "        self.height = height\n",
    "        self.radius = radius\n",
    "    def C_volume(self):\n",
    "        return self.height *  self.pi * self.radius * self.radius\n",
    "my_cylinder = Cylinder(15,21)\n",
    "my_cylinder.C_volume()"
   ],
   "metadata": {
    "collapsed": false,
    "ExecuteTime": {
     "end_time": "2024-02-15T04:27:49.813698251Z",
     "start_time": "2024-02-15T04:27:49.770178538Z"
    }
   },
   "id": "6bd2d9b0786c43c9",
   "execution_count": 9
  },
  {
   "cell_type": "code",
   "outputs": [
    {
     "data": {
      "text/plain": "9.433981132056603"
     },
     "execution_count": 13,
     "metadata": {},
     "output_type": "execute_result"
    }
   ],
   "source": [
    "class Line:\n",
    "    def __init__(self,cood1,cood2):\n",
    "        self.cood1 = cood1\n",
    "        self.cood2 = cood2\n",
    "    def distance(self):\n",
    "        x1,y1 = self.cood1\n",
    "        x2,y2 = self.cood2\n",
    "        return ((x2-x1)**2+(y2-y1)**2)**0.5\n",
    "    def slope(self):\n",
    "        x1,y1 = self.cood1\n",
    "        x2,y2 = self.cood2\n",
    "        return (y2-y1)/(x2-x1)\n",
    "c1=(3,2)\n",
    "c2=(8,10)\n",
    "my_line=Line(c1,c2)\n",
    "my_line.distance()\n",
    "\n",
    "        "
   ],
   "metadata": {
    "collapsed": false,
    "ExecuteTime": {
     "end_time": "2024-02-15T04:39:18.505538733Z",
     "start_time": "2024-02-15T04:39:18.456327602Z"
    }
   },
   "id": "ab2e4d22be4f06a4",
   "execution_count": 13
  },
  {
   "cell_type": "code",
   "outputs": [
    {
     "name": "stdout",
     "output_type": "stream",
     "text": [
      "All other exceptions\n",
      "I always run\n"
     ]
    }
   ],
   "source": [
    "try:\n",
    "    f=open('testfile','r')\n",
    "    f.write  (\"Write a test line\")\n",
    "except:\n",
    "    print(\"All other exceptions\")\n",
    "finally:\n",
    "    print(\"I always run\")"
   ],
   "metadata": {
    "collapsed": false,
    "ExecuteTime": {
     "end_time": "2024-02-16T05:49:23.627316697Z",
     "start_time": "2024-02-16T05:49:23.615685423Z"
    }
   },
   "id": "1480e988d8ce7fd9",
   "execution_count": 1
  },
  {
   "cell_type": "code",
   "outputs": [
    {
     "name": "stdout",
     "output_type": "stream",
     "text": [
      "please provide a number\n",
      "End of try/except/finally\n",
      "please provide a number\n",
      "End of try/except/finally\n",
      "yes thank you\n",
      "End of try/except/finally\n"
     ]
    }
   ],
   "source": [
    "def ask_for_int():\n",
    "    while True:\n",
    "        try:\n",
    "            result=int(input(\"please provide number\"))\n",
    "        except:\n",
    "            print(\"please provide a number\")\n",
    "            continue\n",
    "        else:\n",
    "            print(\"yes thank you\")\n",
    "            break\n",
    "        finally:\n",
    "            print(\"End of try/except/finally\")\n",
    "ask_for_int()        \n",
    "        \n",
    "        "
   ],
   "metadata": {
    "collapsed": false,
    "ExecuteTime": {
     "end_time": "2024-02-16T08:36:35.152778705Z",
     "start_time": "2024-02-16T08:35:57.681740123Z"
    }
   },
   "id": "5d807bb81ef78511",
   "execution_count": 1
  },
  {
   "cell_type": "code",
   "outputs": [
    {
     "ename": "TypeError",
     "evalue": "unsupported operand type(s) for ** or pow(): 'str' and 'int'",
     "output_type": "error",
     "traceback": [
      "\u001B[0;31m---------------------------------------------------------------------------\u001B[0m",
      "\u001B[0;31mTypeError\u001B[0m                                 Traceback (most recent call last)",
      "Cell \u001B[0;32mIn[5], line 2\u001B[0m\n\u001B[1;32m      1\u001B[0m \u001B[38;5;28;01mfor\u001B[39;00m i \u001B[38;5;129;01min\u001B[39;00m [\u001B[38;5;124m'\u001B[39m\u001B[38;5;124ma\u001B[39m\u001B[38;5;124m'\u001B[39m,\u001B[38;5;124m'\u001B[39m\u001B[38;5;124mb\u001B[39m\u001B[38;5;124m'\u001B[39m,\u001B[38;5;124m'\u001B[39m\u001B[38;5;124mc\u001B[39m\u001B[38;5;124m'\u001B[39m]:\n\u001B[0;32m----> 2\u001B[0m     \u001B[38;5;28mprint\u001B[39m(\u001B[43mi\u001B[49m\u001B[38;5;241;43m*\u001B[39;49m\u001B[38;5;241;43m*\u001B[39;49m\u001B[38;5;241;43m2\u001B[39;49m)\n",
      "\u001B[0;31mTypeError\u001B[0m: unsupported operand type(s) for ** or pow(): 'str' and 'int'"
     ]
    }
   ],
   "source": [
    "for i in ['a','b','c']:\n",
    "    print(i**2)"
   ],
   "metadata": {
    "collapsed": false,
    "ExecuteTime": {
     "end_time": "2024-02-16T06:00:24.769779520Z",
     "start_time": "2024-02-16T06:00:24.425191918Z"
    }
   },
   "id": "4ef05a35e9f25ef5",
   "execution_count": 5
  },
  {
   "cell_type": "code",
   "outputs": [
    {
     "name": "stdout",
     "output_type": "stream",
     "text": [
      "we're having a bit of a problem\n"
     ]
    }
   ],
   "source": [
    "try:\n",
    "        #WANT TO ATTEMPT THIS CODE\n",
    "        #MAY HAVE AN ERROR\n",
    "        for i in ['a','b','c']:\n",
    "            print(i**2)\n",
    "        result = ['a**2','b**2','c**2']\n",
    "except :\n",
    "        print(\"we're having a bit of a problem\")\n",
    "else:\n",
    "        print(result)"
   ],
   "metadata": {
    "collapsed": false,
    "ExecuteTime": {
     "end_time": "2024-02-16T06:16:46.727881055Z",
     "start_time": "2024-02-16T06:16:46.684809170Z"
    }
   },
   "id": "a9c5b6b2fb34784f",
   "execution_count": 16
  },
  {
   "cell_type": "code",
   "outputs": [
    {
     "ename": "ZeroDivisionError",
     "evalue": "division by zero",
     "output_type": "error",
     "traceback": [
      "\u001B[0;31m---------------------------------------------------------------------------\u001B[0m",
      "\u001B[0;31mZeroDivisionError\u001B[0m                         Traceback (most recent call last)",
      "Cell \u001B[0;32mIn[13], line 4\u001B[0m\n\u001B[1;32m      1\u001B[0m x\u001B[38;5;241m=\u001B[39m\u001B[38;5;241m5\u001B[39m\n\u001B[1;32m      2\u001B[0m y\u001B[38;5;241m=\u001B[39m\u001B[38;5;241m0\u001B[39m\n\u001B[0;32m----> 4\u001B[0m z\u001B[38;5;241m=\u001B[39m\u001B[43mx\u001B[49m\u001B[38;5;241;43m/\u001B[39;49m\u001B[43my\u001B[49m\n",
      "\u001B[0;31mZeroDivisionError\u001B[0m: division by zero"
     ]
    }
   ],
   "source": [
    "x=5\n",
    "y=0\n",
    "\n",
    "z=x/y"
   ],
   "metadata": {
    "collapsed": false,
    "ExecuteTime": {
     "end_time": "2024-02-16T06:10:03.060011929Z",
     "start_time": "2024-02-16T06:10:02.999321352Z"
    }
   },
   "id": "ac8c47e247e4b6cc",
   "execution_count": 13
  },
  {
   "cell_type": "code",
   "outputs": [
    {
     "name": "stdout",
     "output_type": "stream",
     "text": [
      "we're having a bit of a problem\n",
      "All Done!\n"
     ]
    }
   ],
   "source": [
    "try:\n",
    "    x=5\n",
    "    y=0\n",
    "    z=x/y\n",
    "except:\n",
    "    print(\"we're having a bit of a problem\")\n",
    "finally:\n",
    "    print(\"All Done!\")"
   ],
   "metadata": {
    "collapsed": false,
    "ExecuteTime": {
     "end_time": "2024-02-16T06:20:59.771191888Z",
     "start_time": "2024-02-16T06:20:59.715532296Z"
    }
   },
   "id": "9ac36ec9e9b5a19b",
   "execution_count": 17
  },
  {
   "cell_type": "code",
   "outputs": [
    {
     "name": "stdout",
     "output_type": "stream",
     "text": [
      "please provide a decimal number\n",
      "your number squared is\n",
      "36\n"
     ]
    }
   ],
   "source": [
    "def ask():\n",
    "    #waiting for correct response\n",
    "    Waiting=True\n",
    "    while Waiting:\n",
    "        try:\n",
    "            n=int(input(\"Enter a number\"))\n",
    "        except:\n",
    "            print(\"please provide a decimal number\\n\")\n",
    "            continue\n",
    "        else:\n",
    "            Waiting=False\n",
    "    print(\"your number squared is\")\n",
    "    print(n**2)    \n",
    "ask()            \n",
    "            \n",
    "        "
   ],
   "metadata": {
    "collapsed": false,
    "ExecuteTime": {
     "end_time": "2024-02-16T06:39:18.689071393Z",
     "start_time": "2024-02-16T06:39:12.964913405Z"
    }
   },
   "id": "11a6d8b63955621c",
   "execution_count": 3
  },
  {
   "cell_type": "code",
   "outputs": [
    {
     "name": "stdout",
     "output_type": "stream",
     "text": [
      "Hello ,World!\n"
     ]
    }
   ],
   "source": [
    "class My_class:\n",
    "    def __init__(self,name='World'):\n",
    "        self.name = name\n",
    "        \n",
    "    def greet(self):\n",
    "        print(f\"Hello ,{self.name}!\")\n",
    "        \n",
    "        \n",
    "My_instance=My_class()\n",
    "My_instance.greet()"
   ],
   "metadata": {
    "collapsed": false,
    "ExecuteTime": {
     "end_time": "2024-03-05T04:58:20.828065807Z",
     "start_time": "2024-03-05T04:58:20.760310352Z"
    }
   },
   "id": "1e76f3a1ccd9786c",
   "execution_count": 2
  },
  {
   "cell_type": "code",
   "outputs": [
    {
     "name": "stdout",
     "output_type": "stream",
     "text": [
      "Hello ,Alice!\n"
     ]
    }
   ],
   "source": [
    "My_instance=My_class(\"Alice\")\n",
    "My_instance.greet()"
   ],
   "metadata": {
    "collapsed": false,
    "ExecuteTime": {
     "end_time": "2024-03-05T04:59:05.047896006Z",
     "start_time": "2024-03-05T04:59:04.981253958Z"
    }
   },
   "id": "8ee00cfecba64d93",
   "execution_count": 3
  },
  {
   "cell_type": "code",
   "outputs": [],
   "source": [],
   "metadata": {
    "collapsed": false
   },
   "id": "d95ca8d884636f07"
  }
 ],
 "metadata": {
  "kernelspec": {
   "display_name": "Python 3",
   "language": "python",
   "name": "python3"
  },
  "language_info": {
   "codemirror_mode": {
    "name": "ipython",
    "version": 2
   },
   "file_extension": ".py",
   "mimetype": "text/x-python",
   "name": "python",
   "nbconvert_exporter": "python",
   "pygments_lexer": "ipython2",
   "version": "2.7.6"
  }
 },
 "nbformat": 4,
 "nbformat_minor": 5
}
